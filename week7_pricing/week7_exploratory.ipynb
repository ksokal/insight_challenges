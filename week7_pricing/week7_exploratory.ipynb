{
 "cells": [
  {
   "cell_type": "markdown",
   "metadata": {},
   "source": [
    "# To Increase: A review of pricing strageties and customer reactions\n",
    "## *Kimberly Sokal*\n",
    "***\n"
   ]
  },
  {
   "cell_type": "markdown",
   "metadata": {},
   "source": [
    "# Introduction\n",
    "\n",
    "Para intro\n",
    "\n",
    "These are the 3 factors that I consider to be the most important in an approach to this classification problem:\n",
    "- accuracy\n",
    "- false positives are preferable to false negatives\n",
    "- understandability   "
   ]
  },
  {
   "cell_type": "markdown",
   "metadata": {},
   "source": [
    "# Take away\n",
    "\n",
    "Para and such"
   ]
  },
  {
   "cell_type": "markdown",
   "metadata": {},
   "source": [
    "# Step 1: Data"
   ]
  },
  {
   "cell_type": "markdown",
   "metadata": {},
   "source": [
    "### Before we begin, import packages\n"
   ]
  },
  {
   "cell_type": "code",
   "execution_count": 208,
   "metadata": {},
   "outputs": [],
   "source": [
    "import pandas as pd\n",
    "import numpy as np\n",
    "import matplotlib.pyplot as plt\n",
    "\n",
    "%matplotlib inline"
   ]
  },
  {
   "cell_type": "markdown",
   "metadata": {},
   "source": [
    "### Read in and understand the data"
   ]
  },
  {
   "cell_type": "code",
   "execution_count": 209,
   "metadata": {},
   "outputs": [],
   "source": [
    "tests=pd.read_csv(\"Pricing_Test_data/test_results.csv\")\n",
    "users=pd.read_csv(\"Pricing_Test_data/user_table.csv\")"
   ]
  },
  {
   "cell_type": "code",
   "execution_count": 210,
   "metadata": {},
   "outputs": [
    {
     "name": "stdout",
     "output_type": "stream",
     "text": [
      "<class 'pandas.core.frame.DataFrame'>\n",
      "RangeIndex: 316800 entries, 0 to 316799\n",
      "Data columns (total 8 columns):\n",
      "user_id             316800 non-null int64\n",
      "timestamp           316800 non-null object\n",
      "source              316800 non-null object\n",
      "device              316800 non-null object\n",
      "operative_system    316800 non-null object\n",
      "test                316800 non-null int64\n",
      "price               316800 non-null int64\n",
      "converted           316800 non-null int64\n",
      "dtypes: int64(4), object(4)\n",
      "memory usage: 19.3+ MB\n"
     ]
    }
   ],
   "source": [
    "tests.info()"
   ]
  },
  {
   "cell_type": "code",
   "execution_count": 211,
   "metadata": {},
   "outputs": [
    {
     "name": "stdout",
     "output_type": "stream",
     "text": [
      "<class 'pandas.core.frame.DataFrame'>\n",
      "RangeIndex: 275616 entries, 0 to 275615\n",
      "Data columns (total 5 columns):\n",
      "user_id    275616 non-null int64\n",
      "city       275616 non-null object\n",
      "country    275616 non-null object\n",
      "lat        275616 non-null float64\n",
      "long       275616 non-null float64\n",
      "dtypes: float64(2), int64(1), object(2)\n",
      "memory usage: 10.5+ MB\n"
     ]
    }
   ],
   "source": [
    "users.info()"
   ]
  },
  {
   "cell_type": "code",
   "execution_count": 212,
   "metadata": {},
   "outputs": [
    {
     "data": {
      "text/plain": [
       "array([39, 59])"
      ]
     },
     "execution_count": 212,
     "metadata": {},
     "output_type": "execute_result"
    }
   ],
   "source": [
    "#check that the prices are always what we expect\n",
    "tests.price.unique()"
   ]
  },
  {
   "cell_type": "code",
   "execution_count": 216,
   "metadata": {},
   "outputs": [
    {
     "data": {
      "text/plain": [
       "'2015-04-24 12:60:46'"
      ]
     },
     "execution_count": 216,
     "metadata": {},
     "output_type": "execute_result"
    }
   ],
   "source": [
    "#the time stamp values occasionally have an unusual format\n",
    "tests.at[54,\"timestamp\"]"
   ]
  },
  {
   "cell_type": "code",
   "execution_count": 213,
   "metadata": {},
   "outputs": [],
   "source": [
    "#to avoid this w/o clarifying with the company on what it means, just keeping the day for now\n",
    "tests[\"date\"]=tests[\"timestamp\"].apply(lambda x: x.split()[0])"
   ]
  },
  {
   "cell_type": "code",
   "execution_count": 214,
   "metadata": {},
   "outputs": [],
   "source": [
    "#most of the columns in tests have very few unique values\n",
    "tests[\"date\"]=pd.to_datetime(tests.date)\n"
   ]
  },
  {
   "cell_type": "code",
   "execution_count": 40,
   "metadata": {},
   "outputs": [],
   "source": [
    "#lets list out all of the options here"
   ]
  },
  {
   "cell_type": "code",
   "execution_count": 41,
   "metadata": {},
   "outputs": [
    {
     "name": "stdout",
     "output_type": "stream",
     "text": [
      "316800\n"
     ]
    },
    {
     "data": {
      "text/plain": [
       "275616"
      ]
     },
     "execution_count": 41,
     "metadata": {},
     "output_type": "execute_result"
    }
   ],
   "source": [
    "#I notices that the tables have different lengths, want to check the users\n",
    "print(len(tests.user_id.unique()))\n",
    "len(users.user_id.unique())"
   ]
  },
  {
   "cell_type": "code",
   "execution_count": 42,
   "metadata": {},
   "outputs": [
    {
     "name": "stdout",
     "output_type": "stream",
     "text": [
      "3\n",
      "1000000\n",
      "3\n"
     ]
    },
    {
     "data": {
      "text/plain": [
       "999999"
      ]
     },
     "execution_count": 42,
     "metadata": {},
     "output_type": "execute_result"
    }
   ],
   "source": [
    "#interesting, and the user id's have essentially the same range\n",
    "print(min(tests.user_id.unique()))\n",
    "print(max(tests.user_id.unique()))\n",
    "print(min(users.user_id.unique()))\n",
    "max(users.user_id.unique())"
   ]
  },
  {
   "cell_type": "code",
   "execution_count": 43,
   "metadata": {},
   "outputs": [
    {
     "name": "stdout",
     "output_type": "stream",
     "text": [
      "['USA']\n",
      "['Peabody' 'Reno' 'Rialto' 'Carson City' 'Chicago' 'New York' 'Durham'\n",
      " 'Burke' 'Oklahoma City' 'Charlotte' 'Chesapeake' 'Brentwood' 'Seattle'\n",
      " 'Oakland' 'Stratford' 'Topeka' 'Fort Lauderdale' 'Newport News'\n",
      " 'Kansas City' 'Amarillo' 'Lawton' 'Houston' 'Casas Adobes' 'Bridgeport'\n",
      " 'Birmingham' 'Memphis' 'Quincy' 'Los Angeles' 'Federal Way'\n",
      " 'Rancho Cucamonga' 'Fontana' 'Cuyahoga Falls' 'Gilbert' 'Redford'\n",
      " 'Shreveport' 'Indianapolis' 'Austin' 'Hesperia' 'Meriden' 'Toms River'\n",
      " 'Chicopee' 'Spring Hill' 'Dearborn' 'Jacksonville' 'Avondale' 'La Habra'\n",
      " 'Toledo' 'Temple' 'Colton' 'San Antonio' 'Eau Claire' 'Union City'\n",
      " 'Redondo Beach' 'Mesa' 'Overland Park' 'Revere' 'Wellington'\n",
      " 'Citrus Heights' 'Fort Smith' 'Yonkers' 'Cary' 'Fullerton' 'Woonsocket'\n",
      " 'Southfield' 'Nashville' 'North Fort Myers' 'Metairie' 'Florissant'\n",
      " 'Germantown' 'Provo' 'Augusta-Richmond' 'Henderson' 'Dublin'\n",
      " 'North Bergen' 'Louisville' 'Janesville' 'Conway' 'DeSoto'\n",
      " 'Pinellas Park' 'Milwaukee' 'Portsmouth' 'Chula Vista' 'Tulsa'\n",
      " 'Arlington' 'Boynton Beach' 'Westland' 'Green Bay' 'Bakersfield' 'Downey'\n",
      " 'Cedar Hill' 'Palm Bay' 'Fairfield' 'Tacoma' 'Fond du Lac' 'Utica'\n",
      " 'Evansville' 'Falmouth' 'Lincoln' 'Garden Grove' 'Midland' 'Wilmington'\n",
      " 'Murrieta' 'Palmdale' 'Cranston' 'Taylor' 'Paradise' 'Highlands Ranch'\n",
      " 'Fountainbleau' 'Syracuse' 'Grand Rapids' 'Mishawaka' 'Hoover' 'Canton'\n",
      " 'Vancouver' 'Diamond Bar' 'Beaumont' 'Arlington Heights' 'Winston-Salem'\n",
      " 'Pompano Beach' 'Billings' 'Columbus' 'Greeley' 'Philadelphia'\n",
      " 'Richardson' 'Temecula' 'Virginia Beach' 'Redlands' 'Azusa' 'El Paso'\n",
      " 'Kendale Lakes' 'Fargo' 'Fountain Valley' 'Orange' 'Beavercreek' 'Tyler'\n",
      " 'Largo' 'Rio Rancho' 'Tucson' 'Richmond' 'Orland Park' 'Lakewood'\n",
      " 'Royal Oak' 'Fresno' 'Denton' 'South Valley' 'South Bend' 'Elk Grove'\n",
      " 'Dubuque' 'Appleton' 'Bolingbrook' 'Greensboro' 'Chino Hills' 'Tampa'\n",
      " 'Oceanside' 'Lower Merion' 'Raleigh' 'Waukegan' 'Livonia' 'Irondequoit'\n",
      " 'Miami' 'Brandon' 'San Jose' 'Sunrise Manor' 'Elizabeth' 'Moreno Valley'\n",
      " 'Clarksville' 'Oxnard' 'Macon' 'Catalina Foothills' 'Sunrise' 'Irving'\n",
      " 'Lewisville' 'Providence' 'Anchorage' 'Port Charlotte' 'Simi Valley'\n",
      " 'Worcester' 'DeKalb' 'Stamford' 'Las Vegas' 'Norfolk' 'Hoffman Estates'\n",
      " 'Brea' 'Santa Ana' 'Rochester' 'North Charleston' 'Pomona' 'Chino'\n",
      " 'San Rafael' 'Lancaster' 'Santa Rosa' 'Aurora' 'Riverside' 'New Orleans'\n",
      " 'Detroit' 'Montgomery' 'Tonawanda CDP' 'Atlanta' 'Port Arthur'\n",
      " 'Schenectady' 'Lowell' 'Warner Robins' 'Davis' 'Baton Rouge'\n",
      " 'Saint Petersburg' 'Pueblo' 'Apple Valley' 'Deerfield Beach' 'Fort Worth'\n",
      " 'The Woodlands' 'Torrance' 'Euclid' 'Pittsfield' 'Newark' 'Pahrump'\n",
      " 'Columbia' 'Springfield' 'Boca Raton' 'Boulder' 'Eagan' 'Lake Magdalene'\n",
      " 'State College' 'Auburn' 'Glendale' 'Harrisonburg' 'Cicero'\n",
      " 'Santa Monica' 'Killeen' 'Huntsville' 'Plantation' 'Daytona Beach'\n",
      " 'Salt Lake City' 'Walpole' 'Buffalo' 'Mobile' 'Dearborn Heights' 'Davie'\n",
      " 'Covina' 'Joliet' 'Hammond' 'Pittsburgh' 'East Orange' 'Concord'\n",
      " 'Miramar' 'Bridgewater' 'Jersey City' 'Owensboro' 'Paterson' 'Cleveland'\n",
      " 'Brockton' 'Minneapolis' 'Huntington Beach' 'High Point'\n",
      " 'Wheaton-Glenmont' 'Salinas' 'Fort Collins' 'Omaha' 'Salem' 'Racine'\n",
      " 'Hattiesburg' 'Saint Clair Shores' 'Escondido' 'Bossier City' 'Edison'\n",
      " 'Plano' 'Mountain View' 'Broken Arrow' 'Sterling Heights' 'South Hill'\n",
      " 'Mesquite' 'Flagstaff' 'Moore' 'Bloomington' 'Dallas' 'San Bernardino'\n",
      " 'Ann Arbor' 'Rancho Cordova' 'Euless' 'Lake Forest' 'Altamonte Springs'\n",
      " 'Coral Springs' 'The Hammocks' 'Carlsbad' 'Rancho Palos Verdes' 'Carson'\n",
      " 'Ogden' 'Camden' 'Scottsdale' 'Farmington Hills' 'Burlington' 'Parma'\n",
      " 'Oak Lawn' 'Alameda' 'Aliso Viejo' 'Annandale' 'West Palm Beach'\n",
      " 'Naperville' 'South Gate' 'Terre Haute' 'Redan' 'San Diego' 'Surprise'\n",
      " 'Gainesville' 'Shawnee' 'Greenville' 'West Bloomfield Township'\n",
      " 'South San Francisco' 'Cheektowaga' 'Port Orange' 'Hutchinson' 'Troy'\n",
      " 'Beverly' 'Rock Hill' 'Frederick' 'Lakeland' 'Des Moines' 'Aspen Hill'\n",
      " 'Leominster' 'Lake Charles' 'Allentown' 'Victorville' 'Athens-Clarke'\n",
      " 'Miami Beach' 'Weymouth' 'Manhattan' \"Town'n'Country\" 'Santa Cruz'\n",
      " 'Arcadia' 'Madison' 'Daly City' 'Romeoville' 'Gresham' 'Tuscaloosa'\n",
      " 'Bristol' 'Cape Coral' 'Long Beach' 'Knoxville' 'Laguna' 'East Lansing'\n",
      " 'North Port' 'Westminster' 'Danville' 'Erie' 'Harrisburg' 'Rogers'\n",
      " 'Saint Cloud' \"O'Fallon\" 'Port Saint Lucie' 'Chandler' 'La Mirada'\n",
      " 'Sierra Vista' 'Fayetteville' 'Ames' 'Trenton' 'Hialeah' 'Hollywood'\n",
      " 'Peoria' 'Santa Clara' 'Dale City' 'San Francisco' 'Centreville'\n",
      " 'Anaheim' 'Livermore' 'Meridian' 'Clinton' 'Waltham' 'Sacramento'\n",
      " 'Walnut Creek' 'Orem' 'Sayreville' 'Compton' 'Edmond' 'New Haven'\n",
      " 'Saint Louis' 'Rapid City' 'Bellevue' 'Mount Vernon' 'Tallahassee'\n",
      " 'Sunnyvale' 'Greenwood' 'Turlock' 'Colorado Springs' 'Albany'\n",
      " 'Brownsville' 'Rohnert Park' 'Fort Wayne' 'Sterling' 'Bourne' 'Jackson'\n",
      " 'Rocklin' 'Joplin' 'Cheyenne' 'Waterbury' 'Chico' 'Modesto' 'Suffolk'\n",
      " 'New Brunswick' 'Cathedral City' 'The Colony' 'Cleveland Heights'\n",
      " 'Denver' 'Decatur' 'El Mirage' 'Elmhurst' 'Framingham' 'Nampa'\n",
      " 'Buena Park' 'Egypt Lake-Leto' 'Burnsville' 'Bethlehem' 'Lakeville'\n",
      " 'Broomfield' 'Laredo' 'Parsippany-Troy Hills Township' 'Silver Spring'\n",
      " 'Carrollton' 'Binghamton' 'North Miami Beach' 'Castle Rock' 'MacAllen'\n",
      " 'Sioux City' 'Kentwood' 'Attleboro' 'East Providence' 'Lexington'\n",
      " 'Berwyn' 'Lompoc' 'Anderson' 'Irvine' 'Reading' 'Hillsboro' 'Beaverton'\n",
      " 'Dayton' 'Palo Alto' 'Roanoke' 'Goodyear' 'Saint Joseph' 'Akron'\n",
      " 'Iowa City' 'Pittsburg' 'Arden-Arcade' 'Baldwin Park' 'San Gabriel'\n",
      " 'Sparks' 'Rosemead' 'Strongsville' 'Renton' 'Towson' 'Perth Amboy'\n",
      " 'Tulare' 'Highland' 'Garland' 'North Richland Hills' 'Plymouth'\n",
      " 'Honolulu' 'Littleton' 'Corona' 'Missouri City' 'Idaho Falls'\n",
      " 'North Las Vegas' 'Grand Island' 'Fitchburg' 'Hayward' 'Napa' 'Olathe'\n",
      " 'Perris' 'Santa Clarita' 'Inglewood' 'Thousand Oaks' 'Pasadena' 'Weston'\n",
      " 'Elkhart' 'Murray' 'Portland' 'Kenosha' 'Norwalk' 'Kalamazoo' 'Gilroy'\n",
      " 'Arvada' 'Burbank' 'Redding' 'Rochester Hills' 'West Jordan' 'Warren'\n",
      " 'West Orange' 'Scranton' 'Redwood City' 'Sheboygan' 'Hempstead' 'Duxbury'\n",
      " 'Deltona' 'Marshfield' 'Baytown' 'League City' 'Oshkosh' 'Culver City'\n",
      " 'Kissimmee' 'Sioux Falls' 'Abilene' 'Brick' 'Berkeley' 'Centennial'\n",
      " 'Lawrence' 'Roswell' 'Rockville' 'Belleville' 'Cambridge' 'Whittier'\n",
      " 'Franklin' 'Corpus Christi' 'Wichita' 'Huntersville' 'Bayonne' 'Hemet'\n",
      " 'Medford' 'Milpitas' 'Charleston' 'Westfield' 'Gaithersburg' 'San Marcos'\n",
      " 'Union' 'Asheville' 'Tigard' 'Alexandria' 'Sumter' 'East Los Angeles'\n",
      " 'Palatine' 'San Luis Obispo' 'Coral Gables' 'Barnstable Town' 'Jonesboro'\n",
      " 'Tamarac' 'Camarillo' 'Melbourne' 'Spokane' 'Pasco' 'Hackensack'\n",
      " 'Victoria' 'Upland' 'Portage' 'Chesterfield' 'New Braunfels'\n",
      " 'Greater Carrollwood' 'Vestavia Hills' 'West Covina' 'Holyoke' 'Warwick'\n",
      " 'Palm Beach Gardens' 'Pleasanton' 'Oak Park' 'San Clemente' 'Greenwich'\n",
      " 'Waterloo' 'Folsom' 'Kettering' 'Hendersonville' 'Novato' 'Waco'\n",
      " 'Manchester' 'Antioch' 'Fort Myers' 'Battle Creek' 'Sun City'\n",
      " 'Washington' 'National City' 'Eldersburg' 'Santa Maria' 'Lauderhill'\n",
      " 'Newport Beach' 'Pensacola' 'Roseville' 'Longmont' 'West Seneca'\n",
      " 'Pocatello' 'Saginaw' 'Hartford' 'Waterford' 'Youngstown' 'La Mesa'\n",
      " 'Lansing' 'Kokomo' 'Valdosta' 'Pontiac' 'Murfreesboro' 'Yakima' 'Andover'\n",
      " 'Carmichael' 'Dundalk' 'Vineland' 'Irvington' 'Brooklyn Park' 'Poway'\n",
      " 'El Monte' 'Bend' 'La Crosse' \"Lee's Summit\" 'Bowie' 'Cherry Hill'\n",
      " 'West Sacramento' 'Titusville' 'Santa Fe' 'Frisco' 'Carol City' 'Dennis'\n",
      " 'Las Cruces' 'Prescott' 'Mount Pleasant' 'Flint' 'Shelby' 'New Bedford'\n",
      " 'West Des Moines' 'Palm Springs' 'Spring Valley' 'Hampton' 'Kirkland'\n",
      " 'Independence' 'Corvallis' 'Smyrna' 'East Brunswick' 'Longview' 'Kenner'\n",
      " 'Palm Harbor' 'Ellicott City' 'Watsonville' 'Urbana' 'North Bethesda'\n",
      " 'Yucaipa' 'Savannah' 'Pharr' 'Clifton' 'Passaic' 'Flower Mound'\n",
      " 'Bethesda' 'Mission Viejo' 'Tinley Park' 'Orlando' 'Saint Paul'\n",
      " 'Huntington' 'Elgin' 'North Highlands' 'Conroe' 'Potomac' 'Bell Gardens'\n",
      " 'Phoenix' 'Carol Stream' 'Wichita Falls' 'Manteca' 'Grand Forks'\n",
      " 'Shoreline' 'Galveston' 'Cincinnati' 'Country Club' 'Sandy Springs'\n",
      " 'Danbury' 'Indio' 'Gardena' 'Linden' 'Hanford' 'Tamiami' 'Odessa'\n",
      " 'Kennewick' 'Jupiter' 'Tuckahoe' 'Lubbock' 'Grand Prairie' 'Teaneck'\n",
      " 'San Buenaventura' 'Hamilton' 'Ontario' 'Lafayette' 'Edina' 'Everett'\n",
      " 'Nashua' 'Johnson City' 'Crystal Lake' 'Rocky Mount' 'Lynn' 'Haverhill'\n",
      " 'Pembroke Pines' 'Tracy' 'Levittown' 'West Valley City' 'Bel Air South'\n",
      " 'Sanford' 'El Cajon' 'San Mateo' 'Saint Louis Park' 'Pine Bluff'\n",
      " 'Coon Rapids' 'Moline' 'Gulfport' 'Evanston' 'Alhambra' 'Boston'\n",
      " 'Fall River' 'East Hartford' 'Somerville' 'Bartlett' 'Muskegon' 'Milford'\n",
      " 'Taylorsville' 'Stillwater' 'Middletown' 'Muncie' 'West New York'\n",
      " 'Bloomfield Township' 'Gastonia' 'Pearland' 'Minnetonka' 'MacLean'\n",
      " 'Texas City' 'Newton' 'Wayne' 'Sandwich' 'Wilkes-Barre' 'Sugar Land'\n",
      " 'Lynchburg' 'Georgetown' 'Atlantic City' 'Placentia' 'Lynwood'\n",
      " 'Pawtucket' 'MacKinney' 'Yuma' 'Brewster' 'Wauwatosa' 'Casper' 'Allen'\n",
      " 'Vallejo' 'Porterville' 'Malden' 'Lombard' 'Haltom City' 'Elyria'\n",
      " 'Hawthorne' 'Lenexa' 'Cupertino' 'Lima' 'Chattanooga' 'Skokie'\n",
      " 'Franconia' 'Hamden' 'Boise City' 'Bountiful' 'Catonsville' 'Mansfield'\n",
      " 'Glendora' 'Castro Valley' 'San Leandro' 'Freeport' 'Sandy' 'Redmond'\n",
      " 'Des Plaines' 'New Britain' 'Blaine' 'Shelton' 'Cypress' 'Missoula'\n",
      " 'Lehigh Acres' 'Fremont' 'Bowling Green' 'Lodi' 'Normal' 'Enid'\n",
      " 'Palm Desert' 'Santa Barbara' 'Stockton' 'Salina' 'Yorba Linda'\n",
      " 'Davenport' 'Novi' 'Wyoming' 'Great Falls' 'Monterey Park' 'Duluth'\n",
      " 'La Quinta' 'Harlingen' 'Paramount' 'Springdale' 'Southaven' 'Parker'\n",
      " 'Norman' 'Florence-Graham' 'Visalia' \"Coeur d'Alene\" 'White Plains'\n",
      " 'Carmel' 'Bedford' 'Hoboken' 'San Ramon' 'Billerica' 'Eugene' 'Richland'\n",
      " 'Kent' 'Gary' 'Vista' 'Bremerton' 'Wheaton' 'Huntington Park'\n",
      " 'Hacienda Heights' 'Bloomfield' 'Woodbury' 'West Babylon' 'Farmington'\n",
      " 'North Brunswick Township' 'Altadena' 'Thornton' 'South Whittier'\n",
      " 'Eden Prairie' 'Palm Coast' 'Marietta' 'Westborough' 'Findlay'\n",
      " 'Mount Prospect' 'Vacaville' 'Ceres' 'Tempe' 'North Little Rock' 'Layton'\n",
      " 'San Angelo' 'North Miami' 'Kendall' 'Pico Rivera' 'Twin Falls'\n",
      " 'Rockford' 'New Rochelle' 'Saint George' 'Reston' 'La Puente'\n",
      " 'Hicksville' 'Madera' 'Olympia' 'Bradenton' 'Round Rock' 'Bellingham'\n",
      " 'Coppell' 'Severn' 'Merced' 'Buffalo Grove' 'Niagara Falls' 'Encinitas'\n",
      " 'Mentor' 'Pine Hills' 'Santee' 'Grapevine' 'Maple Grove' 'Grand Junction'\n",
      " 'Glen Burnie' 'Brookline' 'Loveland' 'Keller' 'Bismarck' 'Chantilly'\n",
      " 'Logan' 'Hingham' 'West Allis' 'Edinburg' 'Cedar Park' 'Council Bluffs'\n",
      " 'College Station' 'Bellflower' 'Delano' 'Woodland' 'Lorain' 'Chapel Hill'\n",
      " 'Lake Elsinore' 'Penn Hills' 'North Atlanta' 'Brookfield' 'Covington'\n",
      " 'Coconut Creek' 'West Haven' 'Blue Springs' 'Southglenn' 'Fishers' 'Hilo'\n",
      " 'Mission' 'Taunton' 'Parkway-South Sacramento' 'Waukesha' 'Aloha'\n",
      " 'West Hartford' 'Baltimore' 'Rowland Heights' 'Saint Peters' 'Champaign'\n",
      " 'Wilson' 'Montgomery Village' 'Laguna Niguel' 'Sarasota' 'Plainfield'\n",
      " 'Glenview' 'Saint Charles' 'Bryan' 'Downers Grove' 'Montclair'\n",
      " 'Yuba City' 'Clovis' 'Cedar Rapids' 'Rancho Santa Margarita' 'Blacksburg'\n",
      " 'Monroe' 'Midwest City' 'Little Rock' 'Dothan' 'Costa Mesa'\n",
      " 'Delray Beach' 'Bonita Springs' 'Altoona' 'Schaumburg'\n",
      " 'Seattle Hill-Silver Firs' 'Margate' 'Edmonds' 'Cerritos' 'Tustin'\n",
      " 'Montebello' 'Kingsport' 'Rowlett' 'Albuquerque' 'Petaluma' 'East Lake'\n",
      " 'Ocala' 'New Milford']\n"
     ]
    }
   ],
   "source": [
    "#because we will likely be interesting in segmenting customers, lets also list out different options\n",
    "print(users.country.unique())\n",
    "print(users.city.unique())"
   ]
  },
  {
   "cell_type": "code",
   "execution_count": 44,
   "metadata": {},
   "outputs": [
    {
     "name": "stdout",
     "output_type": "stream",
     "text": [
      "source\n",
      "['ads_facebook' 'seo-google' 'ads-bing' 'direct_traffic' 'ads-google'\n",
      " 'seo_facebook' 'friend_referral' 'ads_other' 'ads-yahoo' 'seo-yahoo'\n",
      " 'seo-bing' 'seo-other']\n",
      "device\n",
      "['mobile' 'web']\n",
      "operative_system\n",
      "['iOS' 'android' 'mac' 'windows' 'other' 'linux']\n"
     ]
    }
   ],
   "source": [
    "print('source')\n",
    "print(tests.source.unique())\n",
    "print('device')\n",
    "print(tests.device.unique())\n",
    "print('operative_system')\n",
    "print(tests.operative_system.unique())\n"
   ]
  },
  {
   "cell_type": "markdown",
   "metadata": {},
   "source": [
    "### First look at the test results"
   ]
  },
  {
   "cell_type": "code",
   "execution_count": 46,
   "metadata": {},
   "outputs": [
    {
     "data": {
      "text/plain": [
       "<matplotlib.axes._subplots.AxesSubplot at 0x118253550>"
      ]
     },
     "execution_count": 46,
     "metadata": {},
     "output_type": "execute_result"
    },
    {
     "data": {
      "image/png": "[encoded data removed]",
      "text/plain": [
       "<Figure size 432x288 with 1 Axes>"
      ]
     },
     "metadata": {
      "needs_background": "light"
     },
     "output_type": "display_data"
    }
   ],
   "source": [
    "#quick check with a histogram\n",
    "tests[\"test\"].plot.hist(color=\"green\", label = \"Test Results\")\n",
    "tests[\"converted\"].plot.hist(color=\"purple\", alpha=0.3, label = \"Converted\")"
   ]
  },
  {
   "cell_type": "markdown",
   "metadata": {},
   "source": [
    "It looks like the test populations aren't horribly imbalanced, so lets investigate what the statistical conclusion would be without further investigation.\n",
    "\n",
    "Let's treat this as an A/B test."
   ]
  },
  {
   "cell_type": "code",
   "execution_count": 94,
   "metadata": {},
   "outputs": [],
   "source": [
    "#split data into sums for A and B tests and the converted for both.\n",
    "A_sum1,B_sum1=tests.groupby(\"test\").sum()[\"converted\"]\n"
   ]
  },
  {
   "cell_type": "code",
   "execution_count": 96,
   "metadata": {},
   "outputs": [],
   "source": [
    "#the orthogonal direction\n",
    "Con0_sumB,Con1_sumB=tests.groupby(\"converted\").sum()[\"test\"]"
   ]
  },
  {
   "cell_type": "code",
   "execution_count": 107,
   "metadata": {},
   "outputs": [],
   "source": [
    "#fill into our table\n",
    "Con0_sumA=len(tests)-(A_sum1+B_sum1+Con0_sumB)\n",
    "#for clarity\n",
    "Con1_sumA=A_sum1"
   ]
  },
  {
   "cell_type": "code",
   "execution_count": 109,
   "metadata": {},
   "outputs": [
    {
     "name": "stdout",
     "output_type": "stream",
     "text": [
      "316800\n",
      "316800\n"
     ]
    }
   ],
   "source": [
    "#check the math quickly\n",
    "print(len(tests))\n",
    "print(Con0_sumA+Con0_sumB+Con1_sumA+Con1_sumB)"
   ]
  },
  {
   "cell_type": "code",
   "execution_count": 108,
   "metadata": {},
   "outputs": [
    {
     "name": "stdout",
     "output_type": "stream",
     "text": [
      "198692 112300\n",
      "4035 1773\n"
     ]
    }
   ],
   "source": [
    "### results table\n",
    "print(Con0_sumA, Con0_sumB)\n",
    "print(Con1_sumA, Con1_sumB)"
   ]
  },
  {
   "cell_type": "code",
   "execution_count": 114,
   "metadata": {},
   "outputs": [],
   "source": [
    "### expected/naive values for results table, given populations\n",
    "total=len(tests)\n",
    "Exp_Con0_sumA=(Con0_sumA+Con0_sumB)/total*(Con0_sumA+Con1_sumA)\n",
    "Exp_Con0_sumB=(Con0_sumA+Con0_sumB)/total*(Con0_sumB+Con1_sumB)\n",
    "Exp_Con1_sumA=(Con1_sumA+Con1_sumB)/total*(Con0_sumA+Con1_sumA)\n",
    "Exp_Con1_sumB=(Con1_sumA+Con1_sumB)/total*(Con0_sumB+Con1_sumB)"
   ]
  },
  {
   "cell_type": "code",
   "execution_count": 115,
   "metadata": {},
   "outputs": [
    {
     "name": "stdout",
     "output_type": "stream",
     "text": [
      "199010.33833333335 111981.66166666667\n",
      "3716.661666666667 2091.338333333333\n"
     ]
    }
   ],
   "source": [
    "### naive results table\n",
    "print(Exp_Con0_sumA, Exp_Con0_sumB)\n",
    "print(Exp_Con1_sumA, Exp_Con1_sumB)"
   ]
  },
  {
   "cell_type": "code",
   "execution_count": 125,
   "metadata": {},
   "outputs": [],
   "source": [
    "### Apply Chi^2 tests to see if the conversion rate between A and B is significantly different\n",
    "chi2=(Con0_sumA-Exp_Con0_sumA)**2/Exp_Con0_sumA+(\n",
    "    Con1_sumA-Exp_Con1_sumA)**2/Exp_Con1_sumA+(\n",
    "    Con0_sumB-Exp_Con0_sumB)**2/Exp_Con0_sumB+(Con1_sumB-Exp_Con1_sumB)**2/Exp_Con1_sumB"
   ]
  },
  {
   "cell_type": "code",
   "execution_count": 126,
   "metadata": {},
   "outputs": [
    {
     "data": {
      "text/plain": [
       "77.13706553092187"
      ]
     },
     "execution_count": 126,
     "metadata": {},
     "output_type": "execute_result"
    }
   ],
   "source": [
    "chi2"
   ]
  },
  {
   "cell_type": "code",
   "execution_count": 118,
   "metadata": {},
   "outputs": [],
   "source": [
    "obs=[[Con0_sumA,Con0_sumB],[Con1_sumA,Con1_sumB]]"
   ]
  },
  {
   "cell_type": "code",
   "execution_count": 119,
   "metadata": {},
   "outputs": [],
   "source": [
    "from scipy.stats import chi2_contingency"
   ]
  },
  {
   "cell_type": "code",
   "execution_count": 120,
   "metadata": {},
   "outputs": [
    {
     "data": {
      "text/plain": [
       "(76.89494424182652,\n",
       " 1.8029808465845306e-18,\n",
       " 1,\n",
       " array([[199010.33833333, 111981.66166667],\n",
       "        [  3716.66166667,   2091.33833333]]))"
      ]
     },
     "execution_count": 120,
     "metadata": {},
     "output_type": "execute_result"
    }
   ],
   "source": [
    "chi2_contingency(obs)"
   ]
  },
  {
   "cell_type": "code",
   "execution_count": 131,
   "metadata": {},
   "outputs": [],
   "source": [
    "#this tells me that the results ARE significant\n",
    "# chi^2 = 77, and pvalue = 2e-18\n",
    "\n",
    "#reminder, the hypothesis here is that the two tests are equally effective\n",
    "#this shows that they are not, the rates are different"
   ]
  },
  {
   "cell_type": "code",
   "execution_count": 155,
   "metadata": {},
   "outputs": [
    {
     "data": {
      "text/plain": [
       "0.01578806767586821"
      ]
     },
     "execution_count": 155,
     "metadata": {},
     "output_type": "execute_result"
    }
   ],
   "source": [
    "#conversion rate for the raised price\n",
    "rateB=Con1_sumB/Con0_sumB\n",
    "rateB"
   ]
  },
  {
   "cell_type": "code",
   "execution_count": 154,
   "metadata": {},
   "outputs": [
    {
     "data": {
      "text/plain": [
       "0.020307813097658688"
      ]
     },
     "execution_count": 154,
     "metadata": {},
     "output_type": "execute_result"
    }
   ],
   "source": [
    "#conversion rate originally\n",
    "rateA=Con1_sumA/Con0_sumA\n",
    "rateA"
   ]
  },
  {
   "cell_type": "code",
   "execution_count": 156,
   "metadata": {},
   "outputs": [
    {
     "data": {
      "text/plain": [
       "0.7774381022685518"
      ]
     },
     "execution_count": 156,
     "metadata": {},
     "output_type": "execute_result"
    }
   ],
   "source": [
    "#loss in rate\n",
    "rateB/rateA"
   ]
  },
  {
   "cell_type": "code",
   "execution_count": 139,
   "metadata": {},
   "outputs": [
    {
     "data": {
      "text/plain": [
       "1.197674914305607"
      ]
     },
     "execution_count": 139,
     "metadata": {},
     "output_type": "execute_result"
    }
   ],
   "source": [
    "#loss in rate but the increase in money\n",
    "rateB/rateA*57./37."
   ]
  },
  {
   "cell_type": "code",
   "execution_count": 141,
   "metadata": {},
   "outputs": [
    {
     "data": {
      "text/plain": [
       "(0.002220977726584586, 0.002960796566166774)"
      ]
     },
     "execution_count": 141,
     "metadata": {},
     "output_type": "execute_result"
    }
   ],
   "source": [
    "#uncertainties\n",
    "#assuming counting statistics, unc on N is N**0.5\n",
    "uncA=(Con1_sumA+Con0_sumA)**-0.5\n",
    "uncB=(Con1_sumB+Con0_sumB)**-0.5\n",
    "\n",
    "uncA, uncB"
   ]
  },
  {
   "cell_type": "markdown",
   "metadata": {},
   "source": [
    "Based on the quick experiment from above, we learned that yes, the conversion rate is statisically different, and lower, for users that are shown the increased price. However, the price gain is enough to compensate for the lost converts, in fact, we would predict making almost 20% more if we switch to the new price across the board.\n",
    "\n",
    "\n",
    "For further work, need to convert instead to a money conversion rate."
   ]
  },
  {
   "cell_type": "markdown",
   "metadata": {},
   "source": [
    "### Power analysis to investigate the sample size"
   ]
  },
  {
   "cell_type": "code",
   "execution_count": 308,
   "metadata": {},
   "outputs": [
    {
     "name": "stdout",
     "output_type": "stream",
     "text": [
      "Required sample size: 701.70\n"
     ]
    }
   ],
   "source": [
    "from statsmodels.stats.power import TTestIndPower\n",
    "\n",
    "# parameters for the analysis \n",
    "effect_size = 0.2\n",
    "alpha = 0.05 # significance level\n",
    "power = 0.9\n",
    "\n",
    "power_analysis = TTestIndPower()\n",
    "sample_size = power_analysis.solve_power(effect_size = effect_size, \n",
    "                                         power = power, \n",
    "                                         alpha = alpha,ratio=0.6)\n",
    "\n",
    "print('Required sample size: {0:.2f}'.format(sample_size))"
   ]
  },
  {
   "cell_type": "code",
   "execution_count": 307,
   "metadata": {},
   "outputs": [
    {
     "data": {
      "text/plain": [
       "22.93468988235943"
      ]
     },
     "execution_count": 307,
     "metadata": {},
     "output_type": "execute_result"
    }
   ],
   "source": [
    "(526.)**.5"
   ]
  },
  {
   "cell_type": "markdown",
   "metadata": {},
   "source": [
    "# User behavior"
   ]
  },
  {
   "cell_type": "code",
   "execution_count": 150,
   "metadata": {},
   "outputs": [],
   "source": [
    "#need to develop a way to test conversion rates between any input options"
   ]
  },
  {
   "cell_type": "code",
   "execution_count": 258,
   "metadata": {},
   "outputs": [
    {
     "name": "stdout",
     "output_type": "stream",
     "text": [
      "Number of people given test A: 202727\n",
      "Number of people given test B: 114073\n",
      "Rate A = 0.020307813097658688 =/- 0.002220977726584586\n",
      "Rate B = 0.01578806767586821 =/- 0.002960796566166774\n",
      "Table:\n",
      "[[198692, 112300], [4035, 1773]]\n",
      "(76.89494424182652, 1.8029808465845306e-18, 1, array([[199010.33833333, 111981.66166667],\n",
      "       [  3716.66166667,   2091.33833333]]))\n"
     ]
    }
   ],
   "source": [
    "#split data into sums for A and B tests and the converted for both.\n",
    "#first print relevant things\n",
    "testsA=tests.groupby(\"test\").get_group(0)\n",
    "testsB=tests.groupby(\"test\").get_group(1)\n",
    "print('Number of people given test A:', len(testsA))\n",
    "print('Number of people given test B:', len(testsB))\n",
    "\n",
    "#define the matrix\n",
    "#the orthogonal direction\n",
    "Con0_sumA=len(testsA.groupby(\"converted\").get_group(0))\n",
    "Con1_sumA=len(testsA.groupby(\"converted\").get_group(1))\n",
    "Con0_sumB=len(testsB.groupby(\"converted\").get_group(0))\n",
    "Con1_sumB=len(testsB.groupby(\"converted\").get_group(1))\n",
    "\n",
    "#print out the conversion rates\n",
    "rateA=Con1_sumA/Con0_sumA\n",
    "rateB=Con1_sumB/Con0_sumB\n",
    "uncA=(Con1_sumA+Con0_sumA)**-0.5\n",
    "uncB=(Con1_sumB+Con0_sumB)**-0.5\n",
    "\n",
    "print('Rate A = {0} =/- {1}'.format(rateA,uncA))\n",
    "print('Rate B = {0} =/- {1}'.format(rateB,uncB))\n",
    "\n",
    "#get our table\n",
    "#want this normalized by price\n",
    "obs=[[Con0_sumA,Con0_sumB],[Con1_sumA,Con1_sumB]]\n",
    "print('Table:')\n",
    "print(obs)\n",
    "\n",
    "#get chi\n",
    "chi=chi2_contingency(obs)\n",
    "print(chi)"
   ]
  },
  {
   "cell_type": "code",
   "execution_count": 302,
   "metadata": {},
   "outputs": [
    {
     "data": {
      "text/plain": [
       "0.6491228070175439"
      ]
     },
     "execution_count": 302,
     "metadata": {},
     "output_type": "execute_result"
    }
   ],
   "source": [
    "### DEFINE THE MIN conversion rate for B that is acceptable\n",
    "#   37./57. * RateA = 0.65 to break even"
   ]
  },
  {
   "cell_type": "code",
   "execution_count": 301,
   "metadata": {},
   "outputs": [
    {
     "data": {
      "text/html": [
       "<div>\n",
       "<style scoped>\n",
       "    .dataframe tbody tr th:only-of-type {\n",
       "        vertical-align: middle;\n",
       "    }\n",
       "\n",
       "    .dataframe tbody tr th {\n",
       "        vertical-align: top;\n",
       "    }\n",
       "\n",
       "    .dataframe thead th {\n",
       "        text-align: right;\n",
       "    }\n",
       "</style>\n",
       "<table border=\"1\" class=\"dataframe\">\n",
       "  <thead>\n",
       "    <tr style=\"text-align: right;\">\n",
       "      <th></th>\n",
       "      <th>user_id</th>\n",
       "      <th>timestamp</th>\n",
       "      <th>source</th>\n",
       "      <th>device</th>\n",
       "      <th>operative_system</th>\n",
       "      <th>test</th>\n",
       "      <th>price</th>\n",
       "      <th>converted</th>\n",
       "      <th>date</th>\n",
       "    </tr>\n",
       "  </thead>\n",
       "  <tbody>\n",
       "    <tr>\n",
       "      <th>258662</th>\n",
       "      <td>889040</td>\n",
       "      <td>2015-03-02 01:16:13</td>\n",
       "      <td>ads_facebook</td>\n",
       "      <td>web</td>\n",
       "      <td>windows</td>\n",
       "      <td>1</td>\n",
       "      <td>59</td>\n",
       "      <td>0</td>\n",
       "      <td>2015-03-02</td>\n",
       "    </tr>\n",
       "    <tr>\n",
       "      <th>83542</th>\n",
       "      <td>331811</td>\n",
       "      <td>2015-03-02 11:48:15</td>\n",
       "      <td>ads_facebook</td>\n",
       "      <td>mobile</td>\n",
       "      <td>other</td>\n",
       "      <td>0</td>\n",
       "      <td>39</td>\n",
       "      <td>0</td>\n",
       "      <td>2015-03-02</td>\n",
       "    </tr>\n",
       "    <tr>\n",
       "      <th>284603</th>\n",
       "      <td>83333</td>\n",
       "      <td>2015-03-02 12:37:34</td>\n",
       "      <td>friend_referral</td>\n",
       "      <td>web</td>\n",
       "      <td>windows</td>\n",
       "      <td>0</td>\n",
       "      <td>39</td>\n",
       "      <td>0</td>\n",
       "      <td>2015-03-02</td>\n",
       "    </tr>\n",
       "    <tr>\n",
       "      <th>310900</th>\n",
       "      <td>449771</td>\n",
       "      <td>2015-03-02 19:58:01</td>\n",
       "      <td>ads_facebook</td>\n",
       "      <td>web</td>\n",
       "      <td>windows</td>\n",
       "      <td>0</td>\n",
       "      <td>39</td>\n",
       "      <td>0</td>\n",
       "      <td>2015-03-02</td>\n",
       "    </tr>\n",
       "    <tr>\n",
       "      <th>83469</th>\n",
       "      <td>691611</td>\n",
       "      <td>2015-03-02 13:30:20</td>\n",
       "      <td>ads_other</td>\n",
       "      <td>mobile</td>\n",
       "      <td>android</td>\n",
       "      <td>0</td>\n",
       "      <td>39</td>\n",
       "      <td>0</td>\n",
       "      <td>2015-03-02</td>\n",
       "    </tr>\n",
       "  </tbody>\n",
       "</table>\n",
       "</div>"
      ],
      "text/plain": [
       "        user_id            timestamp           source  device  \\\n",
       "258662   889040  2015-03-02 01:16:13     ads_facebook     web   \n",
       "83542    331811  2015-03-02 11:48:15     ads_facebook  mobile   \n",
       "284603    83333  2015-03-02 12:37:34  friend_referral     web   \n",
       "310900   449771  2015-03-02 19:58:01     ads_facebook     web   \n",
       "83469    691611  2015-03-02 13:30:20        ads_other  mobile   \n",
       "\n",
       "       operative_system  test  price  converted       date  \n",
       "258662          windows     1     59          0 2015-03-02  \n",
       "83542             other     0     39          0 2015-03-02  \n",
       "284603          windows     0     39          0 2015-03-02  \n",
       "310900          windows     0     39          0 2015-03-02  \n",
       "83469           android     0     39          0 2015-03-02  "
      ]
     },
     "execution_count": 301,
     "metadata": {},
     "output_type": "execute_result"
    }
   ],
   "source": [
    "tests.sort_values(by=\"date\", inplace=True)\n",
    "tests.head()"
   ]
  },
  {
   "cell_type": "code",
   "execution_count": 254,
   "metadata": {},
   "outputs": [
    {
     "data": {
      "text/plain": [
       "<matplotlib.axes._subplots.AxesSubplot at 0x11e57f668>"
      ]
     },
     "execution_count": 254,
     "metadata": {},
     "output_type": "execute_result"
    },
    {
     "data": {
      "image/png": "[encoded data removed]",
      "text/plain": [
       "<Figure size 432x288 with 1 Axes>"
      ]
     },
     "metadata": {
      "needs_background": "light"
     },
     "output_type": "display_data"
    },
    {
     "data": {
      "image/png": "[encoded data removed]",
      "text/plain": [
       "<Figure size 432x288 with 1 Axes>"
      ]
     },
     "metadata": {
      "needs_background": "light"
     },
     "output_type": "display_data"
    }
   ],
   "source": [
    "a=tests[[\"date\",\"user_id\"]].groupby(\"date\").count()\n",
    "a.plot()\n",
    "rollint=a.rolling(7,center=True)\n",
    "rollint.mean().plot(color='red')   "
   ]
  },
  {
   "cell_type": "code",
   "execution_count": 300,
   "metadata": {},
   "outputs": [
    {
     "data": {
      "image/png": "[encoded data removed]",
      "text/plain": [
       "<Figure size 432x288 with 1 Axes>"
      ]
     },
     "metadata": {
      "needs_background": "light"
     },
     "output_type": "display_data"
    },
    {
     "data": {
      "image/png": "[encoded data removed]",
      "text/plain": [
       "<Figure size 432x288 with 1 Axes>"
      ]
     },
     "metadata": {
      "needs_background": "light"
     },
     "output_type": "display_data"
    },
    {
     "data": {
      "image/png": "[encoded data removed]",
      "text/plain": [
       "<Figure size 432x288 with 1 Axes>"
      ]
     },
     "metadata": {
      "needs_background": "light"
     },
     "output_type": "display_data"
    }
   ],
   "source": [
    "this='y'\n",
    "if this == 'y':\n",
    "    testgroup=tests.copy()\n",
    "    tot=len(testgroup)\n",
    "\n",
    "    a=testgroup.groupby(\"date\").count()\n",
    "    #plot rolling average for all users in group\n",
    "    rollint=a.rolling(7,center=True)\n",
    "    rollint[\"user_id\"].mean().plot(color='red')\n",
    "    \n",
    "    #plot rolling average for % of B tests\n",
    "    b=testgroup.groupby(\"test\").get_group(1)\n",
    "    b=b.groupby(\"date\").count()/a\n",
    "    rollint=b.rolling(7,center=True)\n",
    "    ax=rollint.mean().plot(color='red')\n",
    "    \n",
    "    #plot rolling average for % of converted\n",
    "    c=testgroup.groupby(\"converted\").get_group(1)\n",
    "    c=c.groupby(\"date\").count()/a\n",
    "    rollint=c.rolling(7,center=True)\n",
    "    rollint.mean().plot(color='blue')\n",
    "   \n",
    "    #plot rolling average for % converted for a\n",
    "    \n"
   ]
  },
  {
   "cell_type": "code",
   "execution_count": 256,
   "metadata": {},
   "outputs": [
    {
     "data": {
      "text/plain": [
       "<matplotlib.axes._subplots.AxesSubplot at 0x121a45668>"
      ]
     },
     "execution_count": 256,
     "metadata": {},
     "output_type": "execute_result"
    },
    {
     "data": {
      "image/png": "[encoded data removed]",
      "text/plain": [
       "<Figure size 432x288 with 1 Axes>"
      ]
     },
     "metadata": {
      "needs_background": "light"
     },
     "output_type": "display_data"
    },
    {
     "data": {
      "image/png": "[encoded data removed]",
      "text/plain": [
       "<Figure size 432x288 with 1 Axes>"
      ]
     },
     "metadata": {
      "needs_background": "light"
     },
     "output_type": "display_data"
    }
   ],
   "source": [
    "b=tests[[\"date\",\"test\",\"converted\"]].groupby(\"date\").sum()\n",
    "b.plot()\n",
    "rollint=b.rolling(7,center=True)\n",
    "rollint.mean().plot()   "
   ]
  },
  {
   "cell_type": "code",
   "execution_count": 259,
   "metadata": {},
   "outputs": [
    {
     "data": {
      "text/html": [
       "<div>\n",
       "<style scoped>\n",
       "    .dataframe tbody tr th:only-of-type {\n",
       "        vertical-align: middle;\n",
       "    }\n",
       "\n",
       "    .dataframe tbody tr th {\n",
       "        vertical-align: top;\n",
       "    }\n",
       "\n",
       "    .dataframe thead th {\n",
       "        text-align: right;\n",
       "    }\n",
       "</style>\n",
       "<table border=\"1\" class=\"dataframe\">\n",
       "  <thead>\n",
       "    <tr style=\"text-align: right;\">\n",
       "      <th></th>\n",
       "      <th>user_id</th>\n",
       "      <th>timestamp</th>\n",
       "      <th>source</th>\n",
       "      <th>device</th>\n",
       "      <th>operative_system</th>\n",
       "      <th>test</th>\n",
       "      <th>price</th>\n",
       "      <th>converted</th>\n",
       "      <th>date</th>\n",
       "    </tr>\n",
       "  </thead>\n",
       "  <tbody>\n",
       "    <tr>\n",
       "      <th>0</th>\n",
       "      <td>604839</td>\n",
       "      <td>2015-05-08 03:38:34</td>\n",
       "      <td>ads_facebook</td>\n",
       "      <td>mobile</td>\n",
       "      <td>iOS</td>\n",
       "      <td>0</td>\n",
       "      <td>39</td>\n",
       "      <td>0</td>\n",
       "      <td>2015-05-08</td>\n",
       "    </tr>\n",
       "    <tr>\n",
       "      <th>75</th>\n",
       "      <td>491177</td>\n",
       "      <td>2015-05-08 10:10:13</td>\n",
       "      <td>ads_facebook</td>\n",
       "      <td>mobile</td>\n",
       "      <td>iOS</td>\n",
       "      <td>1</td>\n",
       "      <td>59</td>\n",
       "      <td>0</td>\n",
       "      <td>2015-05-08</td>\n",
       "    </tr>\n",
       "    <tr>\n",
       "      <th>78</th>\n",
       "      <td>375154</td>\n",
       "      <td>2015-05-08 10:57:02</td>\n",
       "      <td>ads-google</td>\n",
       "      <td>mobile</td>\n",
       "      <td>iOS</td>\n",
       "      <td>0</td>\n",
       "      <td>39</td>\n",
       "      <td>1</td>\n",
       "      <td>2015-05-08</td>\n",
       "    </tr>\n",
       "    <tr>\n",
       "      <th>87</th>\n",
       "      <td>684549</td>\n",
       "      <td>2015-05-08 08:13:22</td>\n",
       "      <td>direct_traffic</td>\n",
       "      <td>mobile</td>\n",
       "      <td>android</td>\n",
       "      <td>0</td>\n",
       "      <td>39</td>\n",
       "      <td>0</td>\n",
       "      <td>2015-05-08</td>\n",
       "    </tr>\n",
       "    <tr>\n",
       "      <th>119</th>\n",
       "      <td>608626</td>\n",
       "      <td>2015-05-08 15:34:09</td>\n",
       "      <td>ads-google</td>\n",
       "      <td>mobile</td>\n",
       "      <td>iOS</td>\n",
       "      <td>0</td>\n",
       "      <td>39</td>\n",
       "      <td>0</td>\n",
       "      <td>2015-05-08</td>\n",
       "    </tr>\n",
       "    <tr>\n",
       "      <th>274</th>\n",
       "      <td>583141</td>\n",
       "      <td>2015-05-08 10:25:17</td>\n",
       "      <td>friend_referral</td>\n",
       "      <td>web</td>\n",
       "      <td>windows</td>\n",
       "      <td>1</td>\n",
       "      <td>59</td>\n",
       "      <td>0</td>\n",
       "      <td>2015-05-08</td>\n",
       "    </tr>\n",
       "    <tr>\n",
       "      <th>399</th>\n",
       "      <td>173976</td>\n",
       "      <td>2015-05-08 11:50:50</td>\n",
       "      <td>ads_facebook</td>\n",
       "      <td>web</td>\n",
       "      <td>windows</td>\n",
       "      <td>0</td>\n",
       "      <td>39</td>\n",
       "      <td>0</td>\n",
       "      <td>2015-05-08</td>\n",
       "    </tr>\n",
       "    <tr>\n",
       "      <th>423</th>\n",
       "      <td>202712</td>\n",
       "      <td>2015-05-08 09:41:26</td>\n",
       "      <td>ads-google</td>\n",
       "      <td>mobile</td>\n",
       "      <td>android</td>\n",
       "      <td>0</td>\n",
       "      <td>39</td>\n",
       "      <td>0</td>\n",
       "      <td>2015-05-08</td>\n",
       "    </tr>\n",
       "    <tr>\n",
       "      <th>467</th>\n",
       "      <td>627903</td>\n",
       "      <td>2015-05-08 12:15:26</td>\n",
       "      <td>ads-google</td>\n",
       "      <td>mobile</td>\n",
       "      <td>android</td>\n",
       "      <td>1</td>\n",
       "      <td>59</td>\n",
       "      <td>0</td>\n",
       "      <td>2015-05-08</td>\n",
       "    </tr>\n",
       "    <tr>\n",
       "      <th>519</th>\n",
       "      <td>511198</td>\n",
       "      <td>2015-05-08 10:55:60</td>\n",
       "      <td>ads-bing</td>\n",
       "      <td>mobile</td>\n",
       "      <td>iOS</td>\n",
       "      <td>1</td>\n",
       "      <td>59</td>\n",
       "      <td>0</td>\n",
       "      <td>2015-05-08</td>\n",
       "    </tr>\n",
       "    <tr>\n",
       "      <th>544</th>\n",
       "      <td>590090</td>\n",
       "      <td>2015-05-08 09:06:56</td>\n",
       "      <td>direct_traffic</td>\n",
       "      <td>web</td>\n",
       "      <td>windows</td>\n",
       "      <td>0</td>\n",
       "      <td>39</td>\n",
       "      <td>0</td>\n",
       "      <td>2015-05-08</td>\n",
       "    </tr>\n",
       "    <tr>\n",
       "      <th>559</th>\n",
       "      <td>823839</td>\n",
       "      <td>2015-05-08 20:15:49</td>\n",
       "      <td>ads_facebook</td>\n",
       "      <td>mobile</td>\n",
       "      <td>iOS</td>\n",
       "      <td>0</td>\n",
       "      <td>39</td>\n",
       "      <td>0</td>\n",
       "      <td>2015-05-08</td>\n",
       "    </tr>\n",
       "    <tr>\n",
       "      <th>569</th>\n",
       "      <td>671877</td>\n",
       "      <td>2015-05-08 09:41:26</td>\n",
       "      <td>ads-google</td>\n",
       "      <td>mobile</td>\n",
       "      <td>android</td>\n",
       "      <td>0</td>\n",
       "      <td>39</td>\n",
       "      <td>0</td>\n",
       "      <td>2015-05-08</td>\n",
       "    </tr>\n",
       "    <tr>\n",
       "      <th>622</th>\n",
       "      <td>306590</td>\n",
       "      <td>2015-05-08 10:37:27</td>\n",
       "      <td>seo_facebook</td>\n",
       "      <td>mobile</td>\n",
       "      <td>iOS</td>\n",
       "      <td>1</td>\n",
       "      <td>59</td>\n",
       "      <td>0</td>\n",
       "      <td>2015-05-08</td>\n",
       "    </tr>\n",
       "    <tr>\n",
       "      <th>626</th>\n",
       "      <td>785159</td>\n",
       "      <td>2015-05-08 11:39:43</td>\n",
       "      <td>seo-google</td>\n",
       "      <td>mobile</td>\n",
       "      <td>android</td>\n",
       "      <td>0</td>\n",
       "      <td>39</td>\n",
       "      <td>0</td>\n",
       "      <td>2015-05-08</td>\n",
       "    </tr>\n",
       "    <tr>\n",
       "      <th>685</th>\n",
       "      <td>363359</td>\n",
       "      <td>2015-05-08 12:47:04</td>\n",
       "      <td>ads-google</td>\n",
       "      <td>web</td>\n",
       "      <td>windows</td>\n",
       "      <td>1</td>\n",
       "      <td>59</td>\n",
       "      <td>0</td>\n",
       "      <td>2015-05-08</td>\n",
       "    </tr>\n",
       "    <tr>\n",
       "      <th>769</th>\n",
       "      <td>495428</td>\n",
       "      <td>2015-05-08 05:06:43</td>\n",
       "      <td>ads_other</td>\n",
       "      <td>mobile</td>\n",
       "      <td>iOS</td>\n",
       "      <td>0</td>\n",
       "      <td>39</td>\n",
       "      <td>0</td>\n",
       "      <td>2015-05-08</td>\n",
       "    </tr>\n",
       "    <tr>\n",
       "      <th>787</th>\n",
       "      <td>759893</td>\n",
       "      <td>2015-05-08 12:34:10</td>\n",
       "      <td>ads-yahoo</td>\n",
       "      <td>mobile</td>\n",
       "      <td>other</td>\n",
       "      <td>0</td>\n",
       "      <td>39</td>\n",
       "      <td>0</td>\n",
       "      <td>2015-05-08</td>\n",
       "    </tr>\n",
       "    <tr>\n",
       "      <th>808</th>\n",
       "      <td>664913</td>\n",
       "      <td>2015-05-08 12:44:17</td>\n",
       "      <td>ads-google</td>\n",
       "      <td>web</td>\n",
       "      <td>mac</td>\n",
       "      <td>0</td>\n",
       "      <td>39</td>\n",
       "      <td>0</td>\n",
       "      <td>2015-05-08</td>\n",
       "    </tr>\n",
       "    <tr>\n",
       "      <th>862</th>\n",
       "      <td>459924</td>\n",
       "      <td>2015-05-08 14:06:14</td>\n",
       "      <td>ads-google</td>\n",
       "      <td>web</td>\n",
       "      <td>windows</td>\n",
       "      <td>1</td>\n",
       "      <td>59</td>\n",
       "      <td>0</td>\n",
       "      <td>2015-05-08</td>\n",
       "    </tr>\n",
       "    <tr>\n",
       "      <th>899</th>\n",
       "      <td>476592</td>\n",
       "      <td>2015-05-08 17:42:17</td>\n",
       "      <td>ads_facebook</td>\n",
       "      <td>mobile</td>\n",
       "      <td>iOS</td>\n",
       "      <td>0</td>\n",
       "      <td>39</td>\n",
       "      <td>0</td>\n",
       "      <td>2015-05-08</td>\n",
       "    </tr>\n",
       "    <tr>\n",
       "      <th>922</th>\n",
       "      <td>738350</td>\n",
       "      <td>2015-05-08 07:31:25</td>\n",
       "      <td>ads_other</td>\n",
       "      <td>mobile</td>\n",
       "      <td>android</td>\n",
       "      <td>1</td>\n",
       "      <td>59</td>\n",
       "      <td>0</td>\n",
       "      <td>2015-05-08</td>\n",
       "    </tr>\n",
       "    <tr>\n",
       "      <th>1008</th>\n",
       "      <td>912947</td>\n",
       "      <td>2015-05-08 11:58:60</td>\n",
       "      <td>ads_facebook</td>\n",
       "      <td>mobile</td>\n",
       "      <td>other</td>\n",
       "      <td>0</td>\n",
       "      <td>39</td>\n",
       "      <td>0</td>\n",
       "      <td>2015-05-08</td>\n",
       "    </tr>\n",
       "    <tr>\n",
       "      <th>1010</th>\n",
       "      <td>258557</td>\n",
       "      <td>2015-05-08 12:60:17</td>\n",
       "      <td>ads-bing</td>\n",
       "      <td>mobile</td>\n",
       "      <td>iOS</td>\n",
       "      <td>0</td>\n",
       "      <td>39</td>\n",
       "      <td>0</td>\n",
       "      <td>2015-05-08</td>\n",
       "    </tr>\n",
       "    <tr>\n",
       "      <th>1054</th>\n",
       "      <td>758021</td>\n",
       "      <td>2015-05-08 09:49:23</td>\n",
       "      <td>direct_traffic</td>\n",
       "      <td>mobile</td>\n",
       "      <td>iOS</td>\n",
       "      <td>0</td>\n",
       "      <td>39</td>\n",
       "      <td>0</td>\n",
       "      <td>2015-05-08</td>\n",
       "    </tr>\n",
       "    <tr>\n",
       "      <th>1067</th>\n",
       "      <td>29844</td>\n",
       "      <td>2015-05-08 12:04:28</td>\n",
       "      <td>ads_facebook</td>\n",
       "      <td>mobile</td>\n",
       "      <td>iOS</td>\n",
       "      <td>1</td>\n",
       "      <td>59</td>\n",
       "      <td>0</td>\n",
       "      <td>2015-05-08</td>\n",
       "    </tr>\n",
       "    <tr>\n",
       "      <th>1167</th>\n",
       "      <td>671349</td>\n",
       "      <td>2015-05-08 04:35:22</td>\n",
       "      <td>direct_traffic</td>\n",
       "      <td>mobile</td>\n",
       "      <td>android</td>\n",
       "      <td>0</td>\n",
       "      <td>39</td>\n",
       "      <td>0</td>\n",
       "      <td>2015-05-08</td>\n",
       "    </tr>\n",
       "    <tr>\n",
       "      <th>1179</th>\n",
       "      <td>817378</td>\n",
       "      <td>2015-05-08 10:02:38</td>\n",
       "      <td>seo-other</td>\n",
       "      <td>web</td>\n",
       "      <td>windows</td>\n",
       "      <td>1</td>\n",
       "      <td>59</td>\n",
       "      <td>0</td>\n",
       "      <td>2015-05-08</td>\n",
       "    </tr>\n",
       "    <tr>\n",
       "      <th>1185</th>\n",
       "      <td>775888</td>\n",
       "      <td>2015-05-08 16:51:47</td>\n",
       "      <td>friend_referral</td>\n",
       "      <td>mobile</td>\n",
       "      <td>android</td>\n",
       "      <td>0</td>\n",
       "      <td>39</td>\n",
       "      <td>0</td>\n",
       "      <td>2015-05-08</td>\n",
       "    </tr>\n",
       "    <tr>\n",
       "      <th>1233</th>\n",
       "      <td>937778</td>\n",
       "      <td>2015-05-08 11:49:45</td>\n",
       "      <td>ads-bing</td>\n",
       "      <td>web</td>\n",
       "      <td>windows</td>\n",
       "      <td>1</td>\n",
       "      <td>59</td>\n",
       "      <td>0</td>\n",
       "      <td>2015-05-08</td>\n",
       "    </tr>\n",
       "    <tr>\n",
       "      <th>...</th>\n",
       "      <td>...</td>\n",
       "      <td>...</td>\n",
       "      <td>...</td>\n",
       "      <td>...</td>\n",
       "      <td>...</td>\n",
       "      <td>...</td>\n",
       "      <td>...</td>\n",
       "      <td>...</td>\n",
       "      <td>...</td>\n",
       "    </tr>\n",
       "    <tr>\n",
       "      <th>315008</th>\n",
       "      <td>90598</td>\n",
       "      <td>2015-05-08 06:50:19</td>\n",
       "      <td>seo-other</td>\n",
       "      <td>web</td>\n",
       "      <td>windows</td>\n",
       "      <td>0</td>\n",
       "      <td>39</td>\n",
       "      <td>0</td>\n",
       "      <td>2015-05-08</td>\n",
       "    </tr>\n",
       "    <tr>\n",
       "      <th>315081</th>\n",
       "      <td>420556</td>\n",
       "      <td>2015-05-08 19:07:12</td>\n",
       "      <td>direct_traffic</td>\n",
       "      <td>web</td>\n",
       "      <td>windows</td>\n",
       "      <td>0</td>\n",
       "      <td>39</td>\n",
       "      <td>0</td>\n",
       "      <td>2015-05-08</td>\n",
       "    </tr>\n",
       "    <tr>\n",
       "      <th>315113</th>\n",
       "      <td>963156</td>\n",
       "      <td>2015-05-08 10:22:25</td>\n",
       "      <td>ads-bing</td>\n",
       "      <td>web</td>\n",
       "      <td>windows</td>\n",
       "      <td>0</td>\n",
       "      <td>39</td>\n",
       "      <td>0</td>\n",
       "      <td>2015-05-08</td>\n",
       "    </tr>\n",
       "    <tr>\n",
       "      <th>315144</th>\n",
       "      <td>428254</td>\n",
       "      <td>2015-05-08 12:16:53</td>\n",
       "      <td>ads-bing</td>\n",
       "      <td>mobile</td>\n",
       "      <td>iOS</td>\n",
       "      <td>0</td>\n",
       "      <td>39</td>\n",
       "      <td>0</td>\n",
       "      <td>2015-05-08</td>\n",
       "    </tr>\n",
       "    <tr>\n",
       "      <th>315259</th>\n",
       "      <td>707894</td>\n",
       "      <td>2015-05-08 17:09:47</td>\n",
       "      <td>ads-google</td>\n",
       "      <td>web</td>\n",
       "      <td>windows</td>\n",
       "      <td>0</td>\n",
       "      <td>39</td>\n",
       "      <td>0</td>\n",
       "      <td>2015-05-08</td>\n",
       "    </tr>\n",
       "    <tr>\n",
       "      <th>315305</th>\n",
       "      <td>401688</td>\n",
       "      <td>2015-05-08 14:18:32</td>\n",
       "      <td>ads-google</td>\n",
       "      <td>mobile</td>\n",
       "      <td>android</td>\n",
       "      <td>0</td>\n",
       "      <td>39</td>\n",
       "      <td>0</td>\n",
       "      <td>2015-05-08</td>\n",
       "    </tr>\n",
       "    <tr>\n",
       "      <th>315436</th>\n",
       "      <td>893684</td>\n",
       "      <td>2015-05-08 09:32:13</td>\n",
       "      <td>ads_other</td>\n",
       "      <td>web</td>\n",
       "      <td>windows</td>\n",
       "      <td>0</td>\n",
       "      <td>39</td>\n",
       "      <td>0</td>\n",
       "      <td>2015-05-08</td>\n",
       "    </tr>\n",
       "    <tr>\n",
       "      <th>315478</th>\n",
       "      <td>318111</td>\n",
       "      <td>2015-05-08 23:29:55</td>\n",
       "      <td>ads-google</td>\n",
       "      <td>web</td>\n",
       "      <td>windows</td>\n",
       "      <td>0</td>\n",
       "      <td>39</td>\n",
       "      <td>0</td>\n",
       "      <td>2015-05-08</td>\n",
       "    </tr>\n",
       "    <tr>\n",
       "      <th>315575</th>\n",
       "      <td>32455</td>\n",
       "      <td>2015-05-08 10:27:05</td>\n",
       "      <td>direct_traffic</td>\n",
       "      <td>mobile</td>\n",
       "      <td>android</td>\n",
       "      <td>0</td>\n",
       "      <td>39</td>\n",
       "      <td>0</td>\n",
       "      <td>2015-05-08</td>\n",
       "    </tr>\n",
       "    <tr>\n",
       "      <th>315610</th>\n",
       "      <td>807014</td>\n",
       "      <td>2015-05-08 12:35:17</td>\n",
       "      <td>ads-google</td>\n",
       "      <td>mobile</td>\n",
       "      <td>other</td>\n",
       "      <td>0</td>\n",
       "      <td>39</td>\n",
       "      <td>0</td>\n",
       "      <td>2015-05-08</td>\n",
       "    </tr>\n",
       "    <tr>\n",
       "      <th>315630</th>\n",
       "      <td>285285</td>\n",
       "      <td>2015-05-08 12:50:43</td>\n",
       "      <td>ads_facebook</td>\n",
       "      <td>mobile</td>\n",
       "      <td>iOS</td>\n",
       "      <td>0</td>\n",
       "      <td>39</td>\n",
       "      <td>0</td>\n",
       "      <td>2015-05-08</td>\n",
       "    </tr>\n",
       "    <tr>\n",
       "      <th>315635</th>\n",
       "      <td>247314</td>\n",
       "      <td>2015-05-08 12:15:26</td>\n",
       "      <td>ads-google</td>\n",
       "      <td>mobile</td>\n",
       "      <td>android</td>\n",
       "      <td>1</td>\n",
       "      <td>59</td>\n",
       "      <td>0</td>\n",
       "      <td>2015-05-08</td>\n",
       "    </tr>\n",
       "    <tr>\n",
       "      <th>315647</th>\n",
       "      <td>346888</td>\n",
       "      <td>2015-05-08 11:14:32</td>\n",
       "      <td>seo-google</td>\n",
       "      <td>web</td>\n",
       "      <td>windows</td>\n",
       "      <td>0</td>\n",
       "      <td>39</td>\n",
       "      <td>0</td>\n",
       "      <td>2015-05-08</td>\n",
       "    </tr>\n",
       "    <tr>\n",
       "      <th>315697</th>\n",
       "      <td>438219</td>\n",
       "      <td>2015-05-08 11:48:28</td>\n",
       "      <td>ads-google</td>\n",
       "      <td>web</td>\n",
       "      <td>windows</td>\n",
       "      <td>1</td>\n",
       "      <td>59</td>\n",
       "      <td>0</td>\n",
       "      <td>2015-05-08</td>\n",
       "    </tr>\n",
       "    <tr>\n",
       "      <th>315754</th>\n",
       "      <td>50624</td>\n",
       "      <td>2015-05-08 10:23:49</td>\n",
       "      <td>ads-google</td>\n",
       "      <td>mobile</td>\n",
       "      <td>android</td>\n",
       "      <td>0</td>\n",
       "      <td>39</td>\n",
       "      <td>0</td>\n",
       "      <td>2015-05-08</td>\n",
       "    </tr>\n",
       "    <tr>\n",
       "      <th>315762</th>\n",
       "      <td>25857</td>\n",
       "      <td>2015-05-08 08:26:21</td>\n",
       "      <td>ads-bing</td>\n",
       "      <td>mobile</td>\n",
       "      <td>other</td>\n",
       "      <td>1</td>\n",
       "      <td>59</td>\n",
       "      <td>0</td>\n",
       "      <td>2015-05-08</td>\n",
       "    </tr>\n",
       "    <tr>\n",
       "      <th>315815</th>\n",
       "      <td>269093</td>\n",
       "      <td>2015-05-08 09:34:31</td>\n",
       "      <td>direct_traffic</td>\n",
       "      <td>web</td>\n",
       "      <td>windows</td>\n",
       "      <td>1</td>\n",
       "      <td>59</td>\n",
       "      <td>0</td>\n",
       "      <td>2015-05-08</td>\n",
       "    </tr>\n",
       "    <tr>\n",
       "      <th>315836</th>\n",
       "      <td>322221</td>\n",
       "      <td>2015-05-08 12:40:29</td>\n",
       "      <td>ads_facebook</td>\n",
       "      <td>mobile</td>\n",
       "      <td>iOS</td>\n",
       "      <td>1</td>\n",
       "      <td>59</td>\n",
       "      <td>0</td>\n",
       "      <td>2015-05-08</td>\n",
       "    </tr>\n",
       "    <tr>\n",
       "      <th>315976</th>\n",
       "      <td>271704</td>\n",
       "      <td>2015-05-08 03:57:36</td>\n",
       "      <td>ads_facebook</td>\n",
       "      <td>web</td>\n",
       "      <td>windows</td>\n",
       "      <td>0</td>\n",
       "      <td>39</td>\n",
       "      <td>0</td>\n",
       "      <td>2015-05-08</td>\n",
       "    </tr>\n",
       "    <tr>\n",
       "      <th>316051</th>\n",
       "      <td>602459</td>\n",
       "      <td>2015-05-08 03:41:37</td>\n",
       "      <td>ads-google</td>\n",
       "      <td>mobile</td>\n",
       "      <td>android</td>\n",
       "      <td>0</td>\n",
       "      <td>39</td>\n",
       "      <td>0</td>\n",
       "      <td>2015-05-08</td>\n",
       "    </tr>\n",
       "    <tr>\n",
       "      <th>316052</th>\n",
       "      <td>798742</td>\n",
       "      <td>2015-05-08 20:35:55</td>\n",
       "      <td>seo-google</td>\n",
       "      <td>mobile</td>\n",
       "      <td>iOS</td>\n",
       "      <td>0</td>\n",
       "      <td>39</td>\n",
       "      <td>0</td>\n",
       "      <td>2015-05-08</td>\n",
       "    </tr>\n",
       "    <tr>\n",
       "      <th>316087</th>\n",
       "      <td>319554</td>\n",
       "      <td>2015-05-08 17:12:59</td>\n",
       "      <td>ads-bing</td>\n",
       "      <td>web</td>\n",
       "      <td>windows</td>\n",
       "      <td>0</td>\n",
       "      <td>39</td>\n",
       "      <td>0</td>\n",
       "      <td>2015-05-08</td>\n",
       "    </tr>\n",
       "    <tr>\n",
       "      <th>316110</th>\n",
       "      <td>907990</td>\n",
       "      <td>2015-05-08 06:49:58</td>\n",
       "      <td>ads_other</td>\n",
       "      <td>mobile</td>\n",
       "      <td>iOS</td>\n",
       "      <td>0</td>\n",
       "      <td>39</td>\n",
       "      <td>0</td>\n",
       "      <td>2015-05-08</td>\n",
       "    </tr>\n",
       "    <tr>\n",
       "      <th>316198</th>\n",
       "      <td>224742</td>\n",
       "      <td>2015-05-08 11:04:14</td>\n",
       "      <td>ads_facebook</td>\n",
       "      <td>mobile</td>\n",
       "      <td>android</td>\n",
       "      <td>0</td>\n",
       "      <td>39</td>\n",
       "      <td>0</td>\n",
       "      <td>2015-05-08</td>\n",
       "    </tr>\n",
       "    <tr>\n",
       "      <th>316237</th>\n",
       "      <td>187220</td>\n",
       "      <td>2015-05-08 08:43:25</td>\n",
       "      <td>ads-bing</td>\n",
       "      <td>web</td>\n",
       "      <td>mac</td>\n",
       "      <td>1</td>\n",
       "      <td>59</td>\n",
       "      <td>0</td>\n",
       "      <td>2015-05-08</td>\n",
       "    </tr>\n",
       "    <tr>\n",
       "      <th>316346</th>\n",
       "      <td>777796</td>\n",
       "      <td>2015-05-08 10:26:42</td>\n",
       "      <td>ads_other</td>\n",
       "      <td>web</td>\n",
       "      <td>windows</td>\n",
       "      <td>1</td>\n",
       "      <td>59</td>\n",
       "      <td>0</td>\n",
       "      <td>2015-05-08</td>\n",
       "    </tr>\n",
       "    <tr>\n",
       "      <th>316388</th>\n",
       "      <td>591264</td>\n",
       "      <td>2015-05-08 10:53:14</td>\n",
       "      <td>ads_other</td>\n",
       "      <td>web</td>\n",
       "      <td>windows</td>\n",
       "      <td>1</td>\n",
       "      <td>59</td>\n",
       "      <td>0</td>\n",
       "      <td>2015-05-08</td>\n",
       "    </tr>\n",
       "    <tr>\n",
       "      <th>316497</th>\n",
       "      <td>672044</td>\n",
       "      <td>2015-05-08 11:43:09</td>\n",
       "      <td>direct_traffic</td>\n",
       "      <td>mobile</td>\n",
       "      <td>iOS</td>\n",
       "      <td>0</td>\n",
       "      <td>39</td>\n",
       "      <td>0</td>\n",
       "      <td>2015-05-08</td>\n",
       "    </tr>\n",
       "    <tr>\n",
       "      <th>316503</th>\n",
       "      <td>974949</td>\n",
       "      <td>2015-05-08 15:56:33</td>\n",
       "      <td>direct_traffic</td>\n",
       "      <td>web</td>\n",
       "      <td>windows</td>\n",
       "      <td>0</td>\n",
       "      <td>39</td>\n",
       "      <td>0</td>\n",
       "      <td>2015-05-08</td>\n",
       "    </tr>\n",
       "    <tr>\n",
       "      <th>316668</th>\n",
       "      <td>765759</td>\n",
       "      <td>2015-05-08 12:58:33</td>\n",
       "      <td>seo-yahoo</td>\n",
       "      <td>web</td>\n",
       "      <td>windows</td>\n",
       "      <td>0</td>\n",
       "      <td>39</td>\n",
       "      <td>0</td>\n",
       "      <td>2015-05-08</td>\n",
       "    </tr>\n",
       "  </tbody>\n",
       "</table>\n",
       "<p>7036 rows × 9 columns</p>\n",
       "</div>"
      ],
      "text/plain": [
       "        user_id            timestamp           source  device  \\\n",
       "0        604839  2015-05-08 03:38:34     ads_facebook  mobile   \n",
       "75       491177  2015-05-08 10:10:13     ads_facebook  mobile   \n",
       "78       375154  2015-05-08 10:57:02       ads-google  mobile   \n",
       "87       684549  2015-05-08 08:13:22   direct_traffic  mobile   \n",
       "119      608626  2015-05-08 15:34:09       ads-google  mobile   \n",
       "274      583141  2015-05-08 10:25:17  friend_referral     web   \n",
       "399      173976  2015-05-08 11:50:50     ads_facebook     web   \n",
       "423      202712  2015-05-08 09:41:26       ads-google  mobile   \n",
       "467      627903  2015-05-08 12:15:26       ads-google  mobile   \n",
       "519      511198  2015-05-08 10:55:60         ads-bing  mobile   \n",
       "544      590090  2015-05-08 09:06:56   direct_traffic     web   \n",
       "559      823839  2015-05-08 20:15:49     ads_facebook  mobile   \n",
       "569      671877  2015-05-08 09:41:26       ads-google  mobile   \n",
       "622      306590  2015-05-08 10:37:27     seo_facebook  mobile   \n",
       "626      785159  2015-05-08 11:39:43       seo-google  mobile   \n",
       "685      363359  2015-05-08 12:47:04       ads-google     web   \n",
       "769      495428  2015-05-08 05:06:43        ads_other  mobile   \n",
       "787      759893  2015-05-08 12:34:10        ads-yahoo  mobile   \n",
       "808      664913  2015-05-08 12:44:17       ads-google     web   \n",
       "862      459924  2015-05-08 14:06:14       ads-google     web   \n",
       "899      476592  2015-05-08 17:42:17     ads_facebook  mobile   \n",
       "922      738350  2015-05-08 07:31:25        ads_other  mobile   \n",
       "1008     912947  2015-05-08 11:58:60     ads_facebook  mobile   \n",
       "1010     258557  2015-05-08 12:60:17         ads-bing  mobile   \n",
       "1054     758021  2015-05-08 09:49:23   direct_traffic  mobile   \n",
       "1067      29844  2015-05-08 12:04:28     ads_facebook  mobile   \n",
       "1167     671349  2015-05-08 04:35:22   direct_traffic  mobile   \n",
       "1179     817378  2015-05-08 10:02:38        seo-other     web   \n",
       "1185     775888  2015-05-08 16:51:47  friend_referral  mobile   \n",
       "1233     937778  2015-05-08 11:49:45         ads-bing     web   \n",
       "...         ...                  ...              ...     ...   \n",
       "315008    90598  2015-05-08 06:50:19        seo-other     web   \n",
       "315081   420556  2015-05-08 19:07:12   direct_traffic     web   \n",
       "315113   963156  2015-05-08 10:22:25         ads-bing     web   \n",
       "315144   428254  2015-05-08 12:16:53         ads-bing  mobile   \n",
       "315259   707894  2015-05-08 17:09:47       ads-google     web   \n",
       "315305   401688  2015-05-08 14:18:32       ads-google  mobile   \n",
       "315436   893684  2015-05-08 09:32:13        ads_other     web   \n",
       "315478   318111  2015-05-08 23:29:55       ads-google     web   \n",
       "315575    32455  2015-05-08 10:27:05   direct_traffic  mobile   \n",
       "315610   807014  2015-05-08 12:35:17       ads-google  mobile   \n",
       "315630   285285  2015-05-08 12:50:43     ads_facebook  mobile   \n",
       "315635   247314  2015-05-08 12:15:26       ads-google  mobile   \n",
       "315647   346888  2015-05-08 11:14:32       seo-google     web   \n",
       "315697   438219  2015-05-08 11:48:28       ads-google     web   \n",
       "315754    50624  2015-05-08 10:23:49       ads-google  mobile   \n",
       "315762    25857  2015-05-08 08:26:21         ads-bing  mobile   \n",
       "315815   269093  2015-05-08 09:34:31   direct_traffic     web   \n",
       "315836   322221  2015-05-08 12:40:29     ads_facebook  mobile   \n",
       "315976   271704  2015-05-08 03:57:36     ads_facebook     web   \n",
       "316051   602459  2015-05-08 03:41:37       ads-google  mobile   \n",
       "316052   798742  2015-05-08 20:35:55       seo-google  mobile   \n",
       "316087   319554  2015-05-08 17:12:59         ads-bing     web   \n",
       "316110   907990  2015-05-08 06:49:58        ads_other  mobile   \n",
       "316198   224742  2015-05-08 11:04:14     ads_facebook  mobile   \n",
       "316237   187220  2015-05-08 08:43:25         ads-bing     web   \n",
       "316346   777796  2015-05-08 10:26:42        ads_other     web   \n",
       "316388   591264  2015-05-08 10:53:14        ads_other     web   \n",
       "316497   672044  2015-05-08 11:43:09   direct_traffic  mobile   \n",
       "316503   974949  2015-05-08 15:56:33   direct_traffic     web   \n",
       "316668   765759  2015-05-08 12:58:33        seo-yahoo     web   \n",
       "\n",
       "       operative_system  test  price  converted       date  \n",
       "0                   iOS     0     39          0 2015-05-08  \n",
       "75                  iOS     1     59          0 2015-05-08  \n",
       "78                  iOS     0     39          1 2015-05-08  \n",
       "87              android     0     39          0 2015-05-08  \n",
       "119                 iOS     0     39          0 2015-05-08  \n",
       "274             windows     1     59          0 2015-05-08  \n",
       "399             windows     0     39          0 2015-05-08  \n",
       "423             android     0     39          0 2015-05-08  \n",
       "467             android     1     59          0 2015-05-08  \n",
       "519                 iOS     1     59          0 2015-05-08  \n",
       "544             windows     0     39          0 2015-05-08  \n",
       "559                 iOS     0     39          0 2015-05-08  \n",
       "569             android     0     39          0 2015-05-08  \n",
       "622                 iOS     1     59          0 2015-05-08  \n",
       "626             android     0     39          0 2015-05-08  \n",
       "685             windows     1     59          0 2015-05-08  \n",
       "769                 iOS     0     39          0 2015-05-08  \n",
       "787               other     0     39          0 2015-05-08  \n",
       "808                 mac     0     39          0 2015-05-08  \n",
       "862             windows     1     59          0 2015-05-08  \n",
       "899                 iOS     0     39          0 2015-05-08  \n",
       "922             android     1     59          0 2015-05-08  \n",
       "1008              other     0     39          0 2015-05-08  \n",
       "1010                iOS     0     39          0 2015-05-08  \n",
       "1054                iOS     0     39          0 2015-05-08  \n",
       "1067                iOS     1     59          0 2015-05-08  \n",
       "1167            android     0     39          0 2015-05-08  \n",
       "1179            windows     1     59          0 2015-05-08  \n",
       "1185            android     0     39          0 2015-05-08  \n",
       "1233            windows     1     59          0 2015-05-08  \n",
       "...                 ...   ...    ...        ...        ...  \n",
       "315008          windows     0     39          0 2015-05-08  \n",
       "315081          windows     0     39          0 2015-05-08  \n",
       "315113          windows     0     39          0 2015-05-08  \n",
       "315144              iOS     0     39          0 2015-05-08  \n",
       "315259          windows     0     39          0 2015-05-08  \n",
       "315305          android     0     39          0 2015-05-08  \n",
       "315436          windows     0     39          0 2015-05-08  \n",
       "315478          windows     0     39          0 2015-05-08  \n",
       "315575          android     0     39          0 2015-05-08  \n",
       "315610            other     0     39          0 2015-05-08  \n",
       "315630              iOS     0     39          0 2015-05-08  \n",
       "315635          android     1     59          0 2015-05-08  \n",
       "315647          windows     0     39          0 2015-05-08  \n",
       "315697          windows     1     59          0 2015-05-08  \n",
       "315754          android     0     39          0 2015-05-08  \n",
       "315762            other     1     59          0 2015-05-08  \n",
       "315815          windows     1     59          0 2015-05-08  \n",
       "315836              iOS     1     59          0 2015-05-08  \n",
       "315976          windows     0     39          0 2015-05-08  \n",
       "316051          android     0     39          0 2015-05-08  \n",
       "316052              iOS     0     39          0 2015-05-08  \n",
       "316087          windows     0     39          0 2015-05-08  \n",
       "316110              iOS     0     39          0 2015-05-08  \n",
       "316198          android     0     39          0 2015-05-08  \n",
       "316237              mac     1     59          0 2015-05-08  \n",
       "316346          windows     1     59          0 2015-05-08  \n",
       "316388          windows     1     59          0 2015-05-08  \n",
       "316497              iOS     0     39          0 2015-05-08  \n",
       "316503          windows     0     39          0 2015-05-08  \n",
       "316668          windows     0     39          0 2015-05-08  \n",
       "\n",
       "[7036 rows x 9 columns]"
      ]
     },
     "execution_count": 259,
     "metadata": {},
     "output_type": "execute_result"
    }
   ],
   "source": [
    "tests.groupby(\"date\").get_group(\"2015-05-08\")"
   ]
  },
  {
   "cell_type": "code",
   "execution_count": null,
   "metadata": {},
   "outputs": [],
   "source": []
  }
 ],
 "metadata": {
  "kernelspec": {
   "display_name": "Python 3",
   "language": "python",
   "name": "python3"
  },
  "language_info": {
   "codemirror_mode": {
    "name": "ipython",
    "version": 3
   },
   "file_extension": ".py",
   "mimetype": "text/x-python",
   "name": "python",
   "nbconvert_exporter": "python",
   "pygments_lexer": "ipython3",
   "version": "3.7.1"
  }
 },
 "nbformat": 4,
 "nbformat_minor": 2
}
